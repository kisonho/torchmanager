{
 "cells": [
  {
   "cell_type": "code",
   "execution_count": 1,
   "metadata": {},
   "outputs": [
    {
     "name": "stdout",
     "output_type": "stream",
     "text": [
      "Tensorboard\n"
     ]
    }
   ],
   "source": [
    "from lib import callbacks"
   ]
  }
 ],
 "metadata": {
  "interpreter": {
   "hash": "061da311dfafee5fd8aa6fed0c718620d3dacc19261bfe3765191951ef1af9b9"
  },
  "kernelspec": {
   "display_name": "Python 3.9.6 ('pytorch.env')",
   "language": "python",
   "name": "python3"
  },
  "language_info": {
   "codemirror_mode": {
    "name": "ipython",
    "version": 3
   },
   "file_extension": ".py",
   "mimetype": "text/x-python",
   "name": "python",
   "nbconvert_exporter": "python",
   "pygments_lexer": "ipython3",
   "version": "3.9.6"
  },
  "orig_nbformat": 4
 },
 "nbformat": 4,
 "nbformat_minor": 2
}
